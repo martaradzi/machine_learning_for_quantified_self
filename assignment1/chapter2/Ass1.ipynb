{
 "cells": [
  {
   "cell_type": "code",
   "execution_count": 197,
   "metadata": {},
   "outputs": [
    {
     "name": "stdout",
     "output_type": "stream",
     "text": [
      "Populating the interactive namespace from numpy and matplotlib\n",
      "/Users/ninastijepovic/Desktop/assignment1\n"
     ]
    }
   ],
   "source": [
    "from __future__ import absolute_import\n",
    "from __future__ import division\n",
    "from __future__ import print_function\n",
    "from pprint import pprint\n",
    "%pylab inline\n",
    "import pandas as pd\n",
    "import os\n",
    "from collections import Counter\n",
    "from itertools import chain\n",
    "import json\n",
    "import seaborn as sns\n",
    "import matplotlib.pyplot as plt\n",
    "import ast\n",
    "\n",
    "import gc\n",
    "print(os.getcwd())"
   ]
  },
  {
   "cell_type": "code",
   "execution_count": 198,
   "metadata": {},
   "outputs": [],
   "source": [
    "def get_labels(fname):\n",
    "    label_mappings = {}\n",
    "    with open(fname,'r+') as f:\n",
    "        \n",
    "        for line in f.readlines():\n",
    "            \n",
    "            line = line.rstrip().lower()\n",
    "            \n",
    "            splitted = line.split('|')\n",
    "            splitted = [x.strip().rstrip().lower() for x in splitted]\n",
    "            if len(splitted) == 2:\n",
    "                if splitted[1] =='label':\n",
    "                    #print('yeah')\n",
    "                    continue\n",
    "                label = int(splitted[0])\n",
    "                name = splitted[1].rstrip().lower()\n",
    "                label_mappings[name] = label\n",
    "                \n",
    "            else:\n",
    "                break\n",
    "    print (label_mappings)\n",
    "    return label_mappings\n",
    "                \n",
    "\n",
    "\n",
    "def get_sensor_values(fname,device='./datasets/tina/log2'):\n",
    "    '''Get sensor values function. Parses the .txt log and puts all sensors in a csv\n",
    "        args:\n",
    "            fname the filename of the sensor log\n",
    "        \n",
    "        output:\n",
    "            sensor_dict a dictionary where the keys are the sensors and the values are label-vector-timestamp\n",
    "    '''\n",
    "    sensor_dict = {}\n",
    "    device = fname.split('/')[len(fname.split('/'))-1]\n",
    "    print('The device is %s'%device)\n",
    "    labels_dict = {}\n",
    "    label_names = get_labels(fname)\n",
    "    print(label_names)\n",
    "    with open(fname,'r+') as f:\n",
    "        for line in f.readlines():\n",
    "            splitted = line.split('|')\n",
    "            if len(splitted) != 4:\n",
    "                #in case we are before our data to avoid parsing errors\n",
    "                #print (\"split different than 4\")\n",
    "                continue\n",
    "            splitted = [x.rstrip().lower() for x in splitted]\n",
    "            label,sensorname,vector,timestamp = splitted\n",
    "            if label not in labels_dict.keys():\n",
    "                labels_dict[label] = []\n",
    "            else:\n",
    "                if label == 'statusid':\n",
    "                    continue\n",
    "                tmp_list = labels_dict.get(label)\n",
    "#                 #print (label)\n",
    "#                 print (tmp_list)\n",
    "                tmp_list.append(['interval_label',\n",
    "                                     device,\n",
    "                                     label_names.keys()[label_names.values().index(int(label))],\n",
    "                                     timestamp\n",
    "                                    ])\n",
    "#                 except:\n",
    "#                     print (\"fucked up label\")\n",
    "            ### same as above this is actually the header  list.\n",
    "            if sensorname == 'sensorname':\n",
    "#                 print (\"fuck\")\n",
    "                continue\n",
    "                \n",
    "#             print (\"not fuck\")\n",
    "            vector = json.loads(vector)\n",
    "            if sensorname not in sensor_dict.keys():\n",
    "                sensor_dict[sensorname] = []\n",
    "            else:\n",
    "                tmp_list = sensor_dict.get(sensorname)\n",
    "                tmp_list.append([label,vector,timestamp])\n",
    "                sensor_dict[sensorname] = tmp_list\n",
    "            \n",
    "    return sensor_dict,labels_dict\n",
    "\n",
    "def generate_labels(values,header=['device','label','label_start','label_end'],fname='./datasets/tina/csv/labels122.csv'):\n",
    "    label_mapping = get_sensor_values(dataset_path)\n",
    "    \n",
    "    with open(fname,'w') as f:\n",
    "        f.write(''.join([x+',' for x in header])+'\\n')\n",
    "        for key in values.keys():\n",
    "            label_values = values[key]\n",
    "            if len(label_values) == 0:\n",
    "                continue\n",
    "            label_start = label_values[0][3]\n",
    "            label_end = label_values[-1][3]\n",
    "            for v in label_values:\n",
    "                if key == '1':\n",
    "                    key_map = 'Sit'\n",
    "                elif key == '3':\n",
    "                    key_map = 'Walk'\n",
    "                elif key == '4':\n",
    "                    key_map = 'Cycling'\n",
    "                else:\n",
    "                    print(key,type(key))\n",
    "                f.write('%s,%s,%s,%s\\n'%(v[1],key_map,label_start,label_end))\n",
    "\n",
    "def generate_csv(values,header=['x','y','z','timestamp'],label_only='1',fname='./datasets/tina/csv/gyroscope.csv'):\n",
    "    '''Creates a .csv at a specified path for a certain input'''\n",
    "    '''\n",
    "        args:\n",
    "            values    the sensor data values , a list of lists in our case\n",
    "            header    the header of the .csv . Default is label,x,y,z,timestamp \n",
    "            fname     the path and filename to save the .csv file\n",
    "        \n",
    "            \n",
    "    '''\n",
    "    with open(fname,'w') as f:\n",
    "        f.write(''.join([x+',' for x in header])+'\\n')\n",
    "        for v in values:\n",
    "            \n",
    "#             if str(v[0]) != str(label_only):\n",
    "#                 continue\n",
    "            v[2] = float(v[2])\n",
    "            x = str(v[1]).replace('[','').replace(']','').replace(' ','')\n",
    "            if header[0] =='light_intensity':\n",
    "                x = x.replace(',0.0','')    \n",
    "            line = '%s,%d\\n'%(x,v[2])\n",
    "            f.write(line)\n"
   ]
  },
  {
   "cell_type": "code",
   "execution_count": 199,
   "metadata": {},
   "outputs": [
    {
     "name": "stdout",
     "output_type": "stream",
     "text": [
      "./datasets/tina/csv/\n"
     ]
    }
   ],
   "source": [
    "#Directory tree should be :\n",
    "# |-WORKSPACE\n",
    "# |--thisnotebok.ipynb\n",
    "# |--datasets\n",
    "# |--toy_data\n",
    "# |---sensorLog_01.txt\n",
    "# |---csv\n",
    "# |----sensorname.csv\n",
    "# |----anothersensorname.csv\n",
    "dataset_folder = './datasets'\n",
    "current_dataset = 'tina'\n",
    "dataset_fname = 'log2'\n",
    "\n",
    "dataset_path = os.path.join(dataset_folder+'/'+current_dataset,dataset_fname)\n",
    "csv_path = os.path.join(dataset_folder+'/'+current_dataset,'csv/')\n",
    "if not os.path.exists(csv_path):\n",
    "    os.mkdir(csv_path)\n",
    "cnt = 0\n",
    "print(csv_path)"
   ]
  },
  {
   "cell_type": "code",
   "execution_count": 200,
   "metadata": {},
   "outputs": [
    {
     "name": "stdout",
     "output_type": "stream",
     "text": [
      "The device is log2\n",
      "{'walk': 3, 'cycling': 4, 'sit': 1}\n",
      "{'walk': 3, 'cycling': 4, 'sit': 1}\n"
     ]
    }
   ],
   "source": [
    "sensor_dict,labels_dict = get_sensor_values(dataset_path)"
   ]
  },
  {
   "cell_type": "code",
   "execution_count": 201,
   "metadata": {},
   "outputs": [
    {
     "name": "stdout",
     "output_type": "stream",
     "text": [
      "==============================================================\n",
      "Sensors are: [\n",
      "  \"ak09911 magnetometer\", \n",
      "  \"orientation\", \n",
      "  \"gravity -wakeup secondary\", \n",
      "  \"bmi160 gyroscope\", \n",
      "  \"rmd\", \n",
      "  \"bmi160 gyroscope uncalibrated -wakeup secondary\", \n",
      "  \"linear acceleration -wakeup secondary\", \n",
      "  \"linear acceleration\", \n",
      "  \"bmi160 accelerometer uncalibrated -wakeup\", \n",
      "  \"geomagnetic rotation vector -wakeup secondary\", \n",
      "  \"gravity\", \n",
      "  \"pickup\", \n",
      "  \"ak09911 magnetometer uncalibrated -wakeup secondary\", \n",
      "  \"rotation vector\", \n",
      "  \"orientation -wakeup secondary\", \n",
      "  \"tcs3400 als -wakeup secondary\", \n",
      "  \"basic gestures\", \n",
      "  \"bmi160 gyroscope uncalibrated\", \n",
      "  \"tcs3400 rgb_ct\", \n",
      "  \"game rotation vector -wakeup secondary\", \n",
      "  \"bmi160 accelerometer\", \n",
      "  \"rotation vector -wakeup secondary\", \n",
      "  \"tcs3400 als\", \n",
      "  \"bmi160 gyroscope -wakeup secondary\", \n",
      "  \"ak09911 magnetometer uncalibrated\", \n",
      "  \"motion accel\", \n",
      "  \"bmi160 accelerometer uncalibrated -wakeup secondary\", \n",
      "  \"game rotation vector\", \n",
      "  \"geomagnetic rotation vector\", \n",
      "  \"gps\", \n",
      "  \"bmi160 accelerometer -wakeup secondary\", \n",
      "  \"ak09911 magnetometer -wakeup secondary\"\n",
      "]\n"
     ]
    }
   ],
   "source": [
    "sensor_names = sensor_dict.keys()\n",
    "print('==============================================================')\n",
    "print('Sensors are:',json.dumps(sensor_names,indent=2))"
   ]
  },
  {
   "cell_type": "code",
   "execution_count": 202,
   "metadata": {},
   "outputs": [
    {
     "name": "stdout",
     "output_type": "stream",
     "text": [
      "The device is log2\n",
      "{'walk': 3, 'cycling': 4, 'sit': 1}\n",
      "{'walk': 3, 'cycling': 4, 'sit': 1}\n"
     ]
    }
   ],
   "source": [
    "generate_labels(labels_dict,fname=csv_path+'labels122.csv')\n"
   ]
  },
  {
   "cell_type": "code",
   "execution_count": 203,
   "metadata": {},
   "outputs": [],
   "source": [
    "for name in sensor_names:\n",
    "    fname = name.replace(' ','_')+'.csv'\n",
    "    if 'light' in name:\n",
    "        generate_csv(sensor_dict[name],header=['light_intensity','timestamp'],fname=csv_path+fname)\n",
    "    elif 'rotation' in name:\n",
    "        generate_csv(sensor_dict[name],header=['x','y','z','theta','phi','timestamp'],fname = csv_path +fname)\n",
    "    elif 'step' in name:\n",
    "        generate_csv(sensor_dict[name],header=['value','timestamp'],fname=csv_path+fname)\n",
    "    else:    \n",
    "        generate_csv(sensor_dict[name],fname=csv_path+fname)\n",
    "    "
   ]
  },
  {
   "cell_type": "code",
   "execution_count": 204,
   "metadata": {},
   "outputs": [],
   "source": [
    "l=pd.read_csv(\"./datasets/tina/csv/labels122.csv\")"
   ]
  },
  {
   "cell_type": "code",
   "execution_count": 205,
   "metadata": {},
   "outputs": [
    {
     "data": {
      "text/plain": [
       "array(['Cycling'], dtype=object)"
      ]
     },
     "execution_count": 205,
     "metadata": {},
     "output_type": "execute_result"
    }
   ],
   "source": [
    "pd.unique(l[\"label\"])"
   ]
  },
  {
   "cell_type": "code",
   "execution_count": 162,
   "metadata": {},
   "outputs": [
    {
     "ename": "NameError",
     "evalue": "name 'v' is not defined",
     "output_type": "error",
     "traceback": [
      "\u001b[0;31m---------------------------------------------------------------------------\u001b[0m",
      "\u001b[0;31mNameError\u001b[0m                                 Traceback (most recent call last)",
      "\u001b[0;32m<ipython-input-162-e46db5b24b98>\u001b[0m in \u001b[0;36m<module>\u001b[0;34m()\u001b[0m\n\u001b[0;32m----> 1\u001b[0;31m \u001b[0;32mprint\u001b[0m \u001b[0;34m(\u001b[0m\u001b[0mv\u001b[0m\u001b[0;34m)\u001b[0m\u001b[0;34m\u001b[0m\u001b[0m\n\u001b[0m",
      "\u001b[0;31mNameError\u001b[0m: name 'v' is not defined"
     ]
    }
   ],
   "source": [
    "print (v)"
   ]
  },
  {
   "cell_type": "code",
   "execution_count": null,
   "metadata": {},
   "outputs": [],
   "source": []
  }
 ],
 "metadata": {
  "kernelspec": {
   "display_name": "Python 2",
   "language": "python",
   "name": "python2"
  },
  "language_info": {
   "codemirror_mode": {
    "name": "ipython",
    "version": 2
   },
   "file_extension": ".py",
   "mimetype": "text/x-python",
   "name": "python",
   "nbconvert_exporter": "python",
   "pygments_lexer": "ipython2",
   "version": "2.7.15"
  }
 },
 "nbformat": 4,
 "nbformat_minor": 2
}
