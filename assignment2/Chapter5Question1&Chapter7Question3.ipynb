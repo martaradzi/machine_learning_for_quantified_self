{
 "cells": [
  {
   "cell_type": "markdown",
   "metadata": {},
   "source": [
    "# Question 1"
   ]
  },
  {
   "cell_type": "markdown",
   "metadata": {},
   "source": [
    "## All the imports fromt the crowdsignal_ch5.py"
   ]
  },
  {
   "cell_type": "code",
   "execution_count": 1,
   "metadata": {},
   "outputs": [],
   "source": [
    "import sys\n",
    "sys.path.append('./CoursePythonCode')\n",
    "\n",
    "from util.VisualizeDataset import VisualizeDataset\n",
    "from Chapter5.DistanceMetrics import InstanceDistanceMetrics\n",
    "from Chapter5.DistanceMetrics import PersonDistanceMetricsNoOrdering\n",
    "from Chapter5.DistanceMetrics import PersonDistanceMetricsOrdering\n",
    "from Chapter5.Clustering import NonHierarchicalClustering\n",
    "from Chapter5.Clustering import HierarchicalClustering\n",
    "import copy\n",
    "import pandas as pd\n",
    "import matplotlib.pyplot as plot\n",
    "import util.util as util\n",
    "clusteringNH = NonHierarchicalClustering()\n",
    "clusteringH = HierarchicalClustering()\n",
    "\n",
    "%matplotlib inline"
   ]
  },
  {
   "cell_type": "markdown",
   "metadata": {},
   "source": [
    "## Initializing classes and creating variables for the data"
   ]
  },
  {
   "cell_type": "code",
   "execution_count": 2,
   "metadata": {},
   "outputs": [],
   "source": [
    "# initialize relevant class instances\n",
    "DataViz = VisualizeDataset()\n",
    "clusteringNH = NonHierarchicalClustering()\n",
    "\n",
    "# reading in the data\n",
    "data = pd.read_csv('./CoursePythonCode/intermediate_datafiles/chapter4_result.csv', index_col=0)\n",
    "data.index = pd.to_datetime(data.index)"
   ]
  },
  {
   "cell_type": "markdown",
   "metadata": {},
   "source": [
    "## Setting some shit up for the k-medoids method"
   ]
  },
  {
   "cell_type": "code",
   "execution_count": null,
   "metadata": {},
   "outputs": [],
   "source": [
    "k_values = range(2, 10)\n",
    "silhouette_values = []"
   ]
  },
  {
   "cell_type": "markdown",
   "metadata": {},
   "source": [
    "## This part will show the best value for k. Book has it at 6 so it might be that but idk, better to run it right away"
   ]
  },
  {
   "cell_type": "code",
   "execution_count": null,
   "metadata": {},
   "outputs": [],
   "source": [
    "for k in k_values:\n",
    "    print 'k = ', k\n",
    "    dataset_cluster = clusteringNH.k_medoids_over_instances(copy.deepcopy(data), ['gyr_phone_x', 'gyr_phone_y', 'gyr_phone_z'], k, 'default', 20, n_inits=10)\n",
    "    silhouette_score = dataset_cluster['silhouette'].mean()\n",
    "    print 'silhouette = ', silhouette_score\n",
    "    silhouette_values.append(silhouette_score)\n",
    "\n",
    "plot.plot(k_values, silhouette_values, 'b-')\n",
    "plot.ylim([0,1])\n",
    "plot.xlabel('k')\n",
    "plot.ylabel('silhouette score')\n",
    "plot.show()"
   ]
  },
  {
   "cell_type": "markdown",
   "metadata": {},
   "source": [
    "## Set the k value appropriately based on the previous result"
   ]
  },
  {
   "cell_type": "code",
   "execution_count": null,
   "metadata": {},
   "outputs": [],
   "source": [
    "k = 7"
   ]
  },
  {
   "cell_type": "markdown",
   "metadata": {},
   "source": [
    "## This is the actual thing that we need to put as a end result"
   ]
  },
  {
   "cell_type": "code",
   "execution_count": null,
   "metadata": {},
   "outputs": [],
   "source": [
    "dataset_kmed = clusteringNH.k_medoids_over_instances(copy.deepcopy(data), ['gyr_phone_x', 'gyr_phone_y', 'gyr_phone_z'], k, 'default', 20, n_inits=50)\n",
    "DataViz.plot_clusters_3d(dataset_kmed, ['gyr_phone_x', 'gyr_phone_y', 'gyr_phone_z'], 'cluster', ['label'])\n",
    "DataViz.plot_silhouette(dataset_kmed, 'cluster', 'silhouette')\n",
    "util.print_latex_statistics_clusters(dataset_kmed, 'cluster', ['gyr_phone_x', 'gyr_phone_y', 'gyr_phone_z'], 'label')"
   ]
  },
  {
   "cell_type": "markdown",
   "metadata": {},
   "source": [
    "# Question 2"
   ]
  },
  {
   "cell_type": "code",
   "execution_count": null,
   "metadata": {},
   "outputs": [],
   "source": [
    "data2 = pd.read_csv('./CoursePythonCode/intermediate_datafiles/chapter2_our.csv', index_col=0)\n",
    "data2.index = pd.to_datetime(data2.index)"
   ]
  },
  {
   "cell_type": "code",
   "execution_count": null,
   "metadata": {},
   "outputs": [],
   "source": [
    "k_values = range(2, 10)\n",
    "silhouette_values = []"
   ]
  },
  {
   "cell_type": "code",
   "execution_count": null,
   "metadata": {},
   "outputs": [],
   "source": [
    "for k in k_values:\n",
    "    print 'k = ', k\n",
    "    dataset_cluster = clusteringNH.k_medoids_over_instances(copy.deepcopy(data2), ['acc_phone_x', 'acc_phone_y', 'acc_phone_z'], k, 'default', 20, n_inits=10)\n",
    "    silhouette_score = dataset_cluster['silhouette'].mean()\n",
    "    print 'silhouette = ', silhouette_score\n",
    "    silhouette_values.append(silhouette_score)\n",
    "\n",
    "plot.plot(k_values, silhouette_values, 'b-')\n",
    "plot.ylim([0,1])\n",
    "plot.xlabel('k')\n",
    "plot.ylabel('silhouette score')\n",
    "plot.show()"
   ]
  },
  {
   "cell_type": "code",
   "execution_count": null,
   "metadata": {},
   "outputs": [],
   "source": [
    "k = 2"
   ]
  },
  {
   "cell_type": "code",
   "execution_count": null,
   "metadata": {},
   "outputs": [],
   "source": [
    "dataset_kmed = clusteringNH.k_medoids_over_instances(copy.deepcopy(data), ['gyr_phone_x', 'gyr_phone_y', 'gyr_phone_z'], k, 'default', 20, n_inits=50)\n",
    "DataViz.plot_clusters_3d(dataset_kmed, ['gyr_phone_x', 'gyr_phone_y', 'gyr_phone_z'], 'cluster', ['label'])\n",
    "DataViz.plot_silhouette(dataset_kmed, 'cluster', 'silhouette')\n",
    "util.print_latex_statistics_clusters(dataset_kmed, 'cluster', ['gyr_phone_x', 'gyr_phone_y', 'gyr_phone_z'], 'label')"
   ]
  },
  {
   "cell_type": "code",
   "execution_count": 6,
   "metadata": {},
   "outputs": [
    {
     "name": "stderr",
     "output_type": "stream",
     "text": [
      "/opt/anaconda2/lib/python2.7/site-packages/sklearn/ensemble/weight_boosting.py:29: DeprecationWarning: numpy.core.umath_tests is an internal NumPy module and should not be imported. It will be removed in a future NumPy release.\n",
      "  from numpy.core.umath_tests import inner1d\n"
     ]
    }
   ],
   "source": [
    "from util.VisualizeDataset import VisualizeDataset\n",
    "from Chapter7.PrepareDatasetForLearning import PrepareDatasetForLearning\n",
    "from Chapter7.LearningAlgorithms import ClassificationAlgorithms\n",
    "from Chapter7.LearningAlgorithms import RegressionAlgorithms\n",
    "from Chapter7.Evaluation import ClassificationEvaluation\n",
    "from Chapter7.Evaluation import RegressionEvaluation\n",
    "from Chapter7.FeatureSelection import FeatureSelectionClassification\n",
    "from Chapter7.FeatureSelection import FeatureSelectionRegression\n",
    "import copy\n",
    "import pandas as pd\n",
    "from util import util\n",
    "import matplotlib.pyplot as plot\n",
    "import numpy as np\n",
    "from sklearn.model_selection import train_test_split\n",
    "import os"
   ]
  },
  {
   "cell_type": "code",
   "execution_count": null,
   "metadata": {},
   "outputs": [],
   "source": [
    "dataset = pd.read_csv('./CoursePythonCode/intermediate_datafiles/chapter2_our.csv', index_col=0)\n",
    "dataset.index = pd.to_datetime(dataset.index)"
   ]
  },
  {
   "cell_type": "code",
   "execution_count": null,
   "metadata": {},
   "outputs": [],
   "source": [
    "from Chapter3.ImputationMissingValues import ImputationMissingValues\n",
    "MisVal = ImputationMissingValues()\n",
    "for col in [c for c in dataset.columns if not 'label' in c]:\n",
    "    dataset = MisVal.impute_interpolate(dataset, col)\n",
    "# imputed_interpolation_dataset = MisVal.impute_interpolate(copy.deepcopy(dataset), 'light_phone_lux')"
   ]
  },
  {
   "cell_type": "code",
   "execution_count": null,
   "metadata": {},
   "outputs": [],
   "source": [
    "from Chapter3.DataTransformation import PrincipalComponentAnalysis\n",
    "\n",
    "PCA = PrincipalComponentAnalysis()\n",
    "selected_predictor_cols = [c for c in dataset.columns if (not ('label' in c)) and (not (c == 'hr_watch_rate'))]\n",
    "pc_values = PCA.determine_pc_explained_variance(dataset, selected_predictor_cols)"
   ]
  },
  {
   "cell_type": "code",
   "execution_count": null,
   "metadata": {},
   "outputs": [],
   "source": [
    "# Plot the variance explained.\n",
    "\n",
    "plot.plot(range(1, len(selected_predictor_cols)+1), pc_values, 'b-')\n",
    "plot.xlabel('principal component number')\n",
    "plot.ylabel('explained variance')\n",
    "plot.show(block=False)\n"
   ]
  },
  {
   "cell_type": "code",
   "execution_count": null,
   "metadata": {},
   "outputs": [],
   "source": [
    "# We select 7 as the best number of PC's as this explains most of the variance\n",
    "\n",
    "n_pcs = 2\n",
    "\n",
    "dataset = PCA.apply_pca(copy.deepcopy(dataset), selected_predictor_cols, n_pcs)\n",
    "\n",
    "#And we visualize the result of the PC's\n",
    "\n",
    "DataViz.plot_dataset(dataset, ['pca_', 'label'], ['like', 'like'], ['line', 'points'])\n",
    "\n",
    "# And the overall final dataset:\n",
    "\n",
    "#DataViz.plot_dataset(dataset, ['acc_', 'gyr_', 'light_phone_lux', 'mag_', 'pca_', 'label'], ['like', 'like', 'like', 'like', 'like', 'like'], ['line', 'line', 'line', 'line', 'line', 'line', 'line', 'points', 'points'])\n",
    "\n",
    "# Store the outcome.\n",
    "\n",
    "dataset.to_csv('chapter3_result_our.csv')"
   ]
  },
  {
   "cell_type": "code",
   "execution_count": null,
   "metadata": {},
   "outputs": [],
   "source": [
    "from util.VisualizeDataset import VisualizeDataset\n",
    "from Chapter4.TemporalAbstraction import NumericalAbstraction\n",
    "from Chapter4.TemporalAbstraction import CategoricalAbstraction\n",
    "from Chapter4.FrequencyAbstraction import FourierTransformation\n",
    "from Chapter4.TextAbstraction import TextAbstraction\n",
    "import copy\n",
    "import pandas as pd\n",
    "\n",
    "\n",
    "\n",
    "# Compute the number of milliseconds covered by an instane based on the first two rows\n",
    "milliseconds_per_instance = (dataset.index[1] - dataset.index[0]).microseconds/1000\n",
    "\n",
    "\n",
    "# Chapter 4: Identifying aggregate attributes.\n",
    "\n",
    "# First we focus on the time domain.\n",
    "\n",
    "# Set the window sizes to the number of instances representing 5 seconds, 30 seconds and 5 minutes\n",
    "window_sizes = [int(float(5000)/milliseconds_per_instance), int(float(0.5*60000)/milliseconds_per_instance), int(float(5*60000)/milliseconds_per_instance)]\n",
    "\n",
    "NumAbs = NumericalAbstraction()\n",
    "dataset_copy = copy.deepcopy(dataset)\n",
    "for ws in window_sizes:\n",
    "    dataset_copy = NumAbs.abstract_numerical(dataset_copy, ['acc_phone_x'], ws, 'mean')\n",
    "    dataset_copy = NumAbs.abstract_numerical(dataset_copy, ['acc_phone_x'], ws, 'std')\n",
    "\n",
    "#DataViz.plot_dataset(dataset_copy, ['acc_phone_x', 'acc_phone_x_temp_mean', 'acc_phone_x_temp_std', 'label'], ['exact', 'like', 'like', 'like'], ['line', 'line', 'line', 'points'])\n",
    "\n",
    "ws = int(float(0.5*60000)/milliseconds_per_instance)\n",
    "selected_predictor_cols = [c for c in dataset.columns if not 'label' in c]\n",
    "dataset = NumAbs.abstract_numerical(dataset, selected_predictor_cols, ws, 'mean')\n",
    "dataset = NumAbs.abstract_numerical(dataset, selected_predictor_cols, ws, 'std')\n",
    "\n",
    "\n",
    "CatAbs = CategoricalAbstraction()\n",
    "dataset = CatAbs.abstract_categorical(dataset, ['label'], ['like'], 0.03, int(float(5*60000)/milliseconds_per_instance), 2)\n",
    "\n",
    "# Now we move to the frequency domain, with the same window size.\n",
    "\n",
    "FreqAbs = FourierTransformation()\n",
    "fs = float(1000)/milliseconds_per_instance\n",
    "\n",
    "periodic_predictor_cols = ['acc_phone_x','acc_phone_y','acc_phone_z','gyr_phone_x','gyr_phone_y',\n",
    "                           'gyr_phone_z','mag_phone_x','mag_phone_y','mag_phone_z',\n",
    "                           ]\n",
    "data_table = FreqAbs.abstract_frequency(copy.deepcopy(dataset), ['acc_phone_x'], int(float(10000)/milliseconds_per_instance), fs)\n",
    "\n",
    "# Spectral analysis.\n",
    "\n",
    "#DataViz.plot_dataset(data_table, ['acc_phone_x_max_freq', 'acc_phone_x_freq_weighted', 'acc_phone_x_pse', 'label'], ['like', 'like', 'like', 'like'], ['line', 'line', 'line','points'])\n",
    "\n",
    "dataset = FreqAbs.abstract_frequency(dataset, periodic_predictor_cols, int(float(10000)/milliseconds_per_instance), fs)\n",
    "\n",
    "# Now we only take a certain percentage of overlap in the windows, otherwise our training examples will be too much alike.\n",
    "\n",
    "# The percentage of overlap we allow\n",
    "window_overlap = 0.9\n",
    "skip_points = int((1-window_overlap) * ws)\n",
    "dataset = dataset.iloc[::skip_points,:]\n",
    "\n",
    "\n",
    "dataset.to_csv('chapter4_result_our.csv')\n",
    "\n",
    "#DataViz.plot_dataset(dataset, ['acc_phone_x', 'gyr_phone_x', 'hr_watch_rate', 'light_phone_lux', 'mag_phone_x', 'press_phone_', 'pca_1', 'label'], ['like', 'like', 'like', 'like', 'like', 'like', 'like','like'], ['line', 'line', 'line', 'line', 'line', 'line', 'line', 'points'])\n"
   ]
  },
  {
   "cell_type": "code",
   "execution_count": null,
   "metadata": {},
   "outputs": [],
   "source": [
    "dataset.to_csv('chapter4_result_our.csv')"
   ]
  },
  {
   "cell_type": "code",
   "execution_count": 3,
   "metadata": {},
   "outputs": [],
   "source": [
    "dataset = pd.read_csv('./CoursePythonCode/intermediate_datafiles/chapter4_result_our.csv', index_col=0)\n",
    "dataset.index = pd.to_datetime(dataset.index)"
   ]
  },
  {
   "cell_type": "code",
   "execution_count": null,
   "metadata": {},
   "outputs": [],
   "source": [
    "from util.VisualizeDataset import VisualizeDataset\n",
    "from Chapter5.DistanceMetrics import InstanceDistanceMetrics\n",
    "from Chapter5.DistanceMetrics import PersonDistanceMetricsNoOrdering\n",
    "from Chapter5.DistanceMetrics import PersonDistanceMetricsOrdering\n",
    "from Chapter5.Clustering import NonHierarchicalClustering\n",
    "from Chapter5.Clustering import HierarchicalClustering\n",
    "import copy\n",
    "import pandas as pd\n",
    "import matplotlib.pyplot as plot\n",
    "import util.util as util\n",
    "\n",
    "DataViz = VisualizeDataset()\n",
    "\n",
    "\n",
    "clusteringNH = NonHierarchicalClustering()\n",
    "\n",
    "# Let us look at k-means first.\n",
    "\n",
    "k_values = range(2, 10)\n",
    "silhouette_values = []\n",
    "#\n",
    "## Do some initial runs to determine the right number for k\n",
    "#\n",
    "print '===== kmeans clustering ====='\n",
    "for k in k_values:\n",
    "    print 'k = ', k\n",
    "    dataset_cluster = clusteringNH.k_means_over_instances(copy.deepcopy(dataset), ['acc_phone_x', 'acc_phone_y', 'acc_phone_z'], k, 'default', 20, 10)\n",
    "    silhouette_score = dataset_cluster['silhouette'].mean()\n",
    "    print 'silhouette = ', silhouette_score\n",
    "    silhouette_values.append(silhouette_score)\n",
    "\n",
    "plot.plot(k_values, silhouette_values, 'b-')\n",
    "plot.xlabel('k')\n",
    "plot.ylabel('silhouette score')\n",
    "plot.ylim([0,1])\n",
    "plot.show()\n"
   ]
  },
  {
   "cell_type": "code",
   "execution_count": null,
   "metadata": {},
   "outputs": [],
   "source": [
    "k = 2\n",
    "\n",
    "dataset_knn = clusteringNH.k_means_over_instances(copy.deepcopy(dataset), ['acc_phone_x', 'acc_phone_y', 'acc_phone_z'], k, 'default', 50, 50)\n",
    "DataViz.plot_clusters_3d(dataset_knn, ['acc_phone_x', 'acc_phone_y', 'acc_phone_z'], 'cluster', ['label'])\n",
    "DataViz.plot_silhouette(dataset_knn, 'cluster', 'silhouette')\n",
    "util.print_latex_statistics_clusters(dataset_knn, 'cluster', ['acc_phone_x', 'acc_phone_y', 'acc_phone_z'], 'label')\n",
    "del dataset_knn['silhouette']"
   ]
  },
  {
   "cell_type": "code",
   "execution_count": null,
   "metadata": {},
   "outputs": [],
   "source": [
    "k_values = range(2, 10)\n",
    "silhouette_values = []\n",
    "\n",
    "# Do some initial runs to determine the right number for k\n",
    "\n",
    "print '===== k medoids clustering ====='\n",
    "for k in k_values:\n",
    "    print 'k = ', k\n",
    "    dataset_cluster = clusteringNH.k_medoids_over_instances(copy.deepcopy(dataset), ['acc_phone_x', 'acc_phone_y', 'acc_phone_z'], k, 'default', 20, n_inits=10)\n",
    "    silhouette_score = dataset_cluster['silhouette'].mean()\n",
    "    print 'silhouette = ', silhouette_score\n",
    "    silhouette_values.append(silhouette_score)\n",
    "\n",
    "plot.plot(k_values, silhouette_values, 'b-')\n",
    "plot.ylim([0,1])\n",
    "plot.xlabel('k')\n",
    "plot.ylabel('silhouette score')\n",
    "plot.show()\n"
   ]
  },
  {
   "cell_type": "code",
   "execution_count": null,
   "metadata": {},
   "outputs": [],
   "source": [
    "# And run k medoids with the highest silhouette score\n",
    "\n",
    "k = 2\n",
    "\n",
    "dataset_kmed = clusteringNH.k_medoids_over_instances(copy.deepcopy(dataset), ['acc_phone_x', 'acc_phone_y', 'acc_phone_z'], k, 'default', 20, n_inits=50)\n",
    "DataViz.plot_clusters_3d(dataset_kmed, ['acc_phone_x', 'acc_phone_y', 'acc_phone_z'], 'cluster', ['label'])\n",
    "DataViz.plot_silhouette(dataset_kmed, 'cluster', 'silhouette')\n",
    "util.print_latex_statistics_clusters(dataset_kmed, 'cluster', ['acc_phone_x', 'acc_phone_y', 'acc_phone_z'], 'label')\n",
    "\n"
   ]
  },
  {
   "cell_type": "code",
   "execution_count": null,
   "metadata": {},
   "outputs": [],
   "source": [
    "# And the hierarchical clustering is the last one we try\n",
    "\n",
    "clusteringH = HierarchicalClustering()\n",
    "\n",
    "k_values = range(2, 10)\n",
    "silhouette_values = []\n",
    "\n",
    "# Do some initial runs to determine the right number for the maximum number of clusters.\n",
    "\n",
    "print '===== agglomaritive clustering ====='\n",
    "for k in k_values:\n",
    "    print 'k = ', k\n",
    "    dataset_cluster, l = clusteringH.agglomerative_over_instances(copy.deepcopy(dataset), ['acc_phone_x', 'acc_phone_y', 'acc_phone_z'], 5, 'euclidean', use_prev_linkage=True, link_function='ward')\n",
    "    silhouette_score = dataset_cluster['silhouette'].mean()\n",
    "    print 'silhouette = ', silhouette_score\n",
    "    silhouette_values.append(silhouette_score)\n",
    "    if k == k_values[0]:\n",
    "        DataViz.plot_dendrogram(dataset_cluster, l)\n",
    "\n",
    "plot.plot(k_values, silhouette_values, 'b-')\n",
    "plot.ylim([0,1])\n",
    "plot.xlabel('max number of clusters')\n",
    "plot.ylabel('silhouette score')\n",
    "plot.show()\n",
    "\n",
    "# And we select the outcome dataset of the knn clustering....\n",
    "\n",
    "dataset_knn.to_csv('chapter5_result_our.csv')"
   ]
  },
  {
   "cell_type": "code",
   "execution_count": 4,
   "metadata": {},
   "outputs": [],
   "source": [
    "dataset = pd.read_csv('./CoursePythonCode/intermediate_datafiles/chapter5_result_our.csv', index_col=0)\n",
    "dataset.index = pd.to_datetime(dataset.index)"
   ]
  },
  {
   "cell_type": "code",
   "execution_count": 7,
   "metadata": {},
   "outputs": [
    {
     "name": "stdout",
     "output_type": "stream",
     "text": [
      "Training set length is:  192\n",
      "Test set length is:  83\n",
      "#basic features:  10\n",
      "#PCA features:  2\n",
      "#time features:  24\n",
      "#frequency features:  126\n",
      "#cluster features:  1\n"
     ]
    }
   ],
   "source": [
    "prepare = PrepareDatasetForLearning()\n",
    "\n",
    "train_X, test_X, train_y, test_y = prepare.split_single_dataset_classification(dataset, ['label'], 'like', 0.7, filter=True, temporal=False)\n",
    "#train_X, test_X, train_y, test_y = prepare.split_single_dataset_classification(dataset, ['label'], 'like', 0.01, filter=True, temporal=False)\n",
    "\n",
    "print 'Training set length is: ', len(train_X.index)\n",
    "print 'Test set length is: ', len(test_X.index)\n",
    "\n",
    "# Select subsets of the features that we will consider:\n",
    "\n",
    "basic_features = ['acc_phone_x','acc_phone_y','acc_phone_z','gyr_phone_x','gyr_phone_y','gyr_phone_z',\n",
    "                  'light_phone_lux','mag_phone_x','mag_phone_y','mag_phone_z']\n",
    "pca_features = ['pca_1','pca_2']\n",
    "time_features = [name for name in dataset.columns if '_temp_' in name]\n",
    "freq_features = [name for name in dataset.columns if (('_freq' in name) or ('_pse' in name))]\n",
    "print '#basic features: ', len(basic_features)\n",
    "print '#PCA features: ', len(pca_features)\n",
    "print '#time features: ', len(time_features)\n",
    "print '#frequency features: ', len(freq_features)\n",
    "cluster_features = ['cluster']\n",
    "print '#cluster features: ', len(cluster_features)\n",
    "features_after_chapter_3 = list(set().union(basic_features, pca_features))\n",
    "features_after_chapter_4 = list(set().union(basic_features, pca_features, time_features, freq_features))\n",
    "features_after_chapter_5 = list(set().union(basic_features, pca_features, time_features, freq_features, cluster_features))\n",
    "\n",
    "\n"
   ]
  },
  {
   "cell_type": "code",
   "execution_count": 8,
   "metadata": {},
   "outputs": [
    {
     "name": "stdout",
     "output_type": "stream",
     "text": [
      "0\n"
     ]
    },
    {
     "name": "stderr",
     "output_type": "stream",
     "text": [
      "/opt/anaconda2/lib/python2.7/site-packages/sklearn/model_selection/_split.py:605: Warning: The least populated class in y has only 3 members, which is too few. The minimum number of members in any class cannot be less than n_splits=5.\n",
      "  % (min_groups, self.n_splits)), Warning)\n"
     ]
    },
    {
     "name": "stdout",
     "output_type": "stream",
     "text": [
      "1\n",
      "2\n",
      "3\n",
      "4\n",
      "5\n",
      "6\n",
      "7\n",
      "8\n",
      "9\n",
      "10\n",
      "11\n",
      "12\n",
      "13\n",
      "14\n",
      "15\n",
      "16\n",
      "17\n",
      "18\n",
      "19\n",
      "20\n",
      "21\n",
      "22\n",
      "23\n",
      "24\n",
      "25\n",
      "26\n",
      "27\n",
      "28\n",
      "29\n",
      "30\n",
      "31\n",
      "32\n",
      "33\n",
      "34\n",
      "35\n",
      "36\n",
      "37\n",
      "38\n",
      "39\n",
      "40\n",
      "41\n",
      "42\n",
      "43\n",
      "44\n",
      "45\n",
      "46\n",
      "47\n",
      "48\n",
      "49\n",
      "[0.9010416666666666, 0.9791666666666666, 0.9895833333333334, 1.0, 1.0, 1.0, 1.0, 1.0, 1.0, 1.0, 1.0, 1.0, 1.0, 1.0, 1.0, 1.0, 1.0, 1.0, 1.0, 1.0, 1.0, 1.0, 1.0, 1.0, 1.0, 1.0, 1.0, 1.0, 1.0, 1.0, 1.0, 1.0, 1.0, 1.0, 1.0, 1.0, 1.0, 1.0, 1.0, 1.0, 1.0, 1.0, 1.0, 1.0, 1.0, 1.0, 1.0, 1.0, 1.0, 1.0]\n",
      "['acc_phone_x_temp_mean_ws_60', 'acc_phone_z', 'gyr_phone_z_temp_mean_ws_60', 'mag_phone_x_freq_0.9_Hz_ws_20', 'acc_phone_y_freq_0.2_Hz_ws_20', 'gyr_phone_x_freq_0.30000000000000004_Hz_ws_20', 'gyr_phone_z_freq_0.9_Hz_ws_20', 'gyr_phone_y_freq_0.7000000000000001_Hz_ws_20', 'gyr_phone_x_freq_0.6000000000000001_Hz_ws_20', 'acc_phone_z_freq_0.8_Hz_ws_20', 'gyr_phone_y_max_freq', 'mag_phone_y_freq_0.7000000000000001_Hz_ws_20', 'mag_phone_y_freq_0.6000000000000001_Hz_ws_20', 'acc_phone_y_freq_weighted', 'gyr_phone_x_max_freq', 'gyr_phone_x_freq_1.0_Hz_ws_20', 'acc_phone_x_freq_0.30000000000000004_Hz_ws_20', 'gyr_phone_x_freq_0.2_Hz_ws_20', 'acc_phone_y_freq_0.8_Hz_ws_20', 'gyr_phone_x_freq_0.9_Hz_ws_20', 'mag_phone_z_freq_0.7000000000000001_Hz_ws_20', 'acc_phone_y_freq_0.30000000000000004_Hz_ws_20', 'gyr_phone_y_freq_0.6000000000000001_Hz_ws_20', 'acc_phone_z_freq_0.5_Hz_ws_20', 'mag_phone_z_freq_0.1_Hz_ws_20', 'acc_phone_x_freq_0.7000000000000001_Hz_ws_20', 'gyr_phone_y_freq_0.9_Hz_ws_20', 'pca_1', 'mag_phone_z_freq_0.4_Hz_ws_20', 'mag_phone_x_max_freq', 'acc_phone_x_freq_0.1_Hz_ws_20', 'mag_phone_x_freq_0.0_Hz_ws_20', 'acc_phone_y_temp_mean_ws_60', 'mag_phone_x_temp_std_ws_60', 'pca_2_temp_mean_ws_60', 'acc_phone_y_freq_0.6000000000000001_Hz_ws_20', 'gyr_phone_y_pse', 'mag_phone_x_freq_0.7000000000000001_Hz_ws_20', 'gyr_phone_x_freq_0.5_Hz_ws_20', 'gyr_phone_z_freq_0.5_Hz_ws_20', 'acc_phone_y_freq_0.5_Hz_ws_20', 'acc_phone_x_freq_weighted', 'mag_phone_x_freq_0.4_Hz_ws_20', 'mag_phone_z_freq_0.9_Hz_ws_20', 'light_phone_lux', 'acc_phone_x_pse', 'acc_phone_z_freq_0.9_Hz_ws_20', 'acc_phone_x_freq_0.4_Hz_ws_20', 'mag_phone_z_freq_0.30000000000000004_Hz_ws_20', 'acc_phone_x_temp_std_ws_60']\n"
     ]
    },
    {
     "data": {
      "image/png": "[encoded data removed]",
      "text/plain": [
       "<Figure size 432x288 with 1 Axes>"
      ]
     },
     "metadata": {
      "needs_background": "light"
     },
     "output_type": "display_data"
    }
   ],
   "source": [
    "# First, let us consider the performance over a selection of features:\n",
    "fs = FeatureSelectionClassification()\n",
    "\n",
    "features, ordered_features, ordered_scores = fs.forward_selection(50, train_X[features_after_chapter_5], train_y)\n",
    "print ordered_scores\n",
    "print ordered_features\n",
    "\n",
    "plot.plot(range(1, 51), ordered_scores)\n",
    "plot.xlabel('number of features')\n",
    "plot.ylabel('accuracy')\n",
    "plot.show()"
   ]
  },
  {
   "cell_type": "code",
   "execution_count": 9,
   "metadata": {},
   "outputs": [
    {
     "name": "stderr",
     "output_type": "stream",
     "text": [
      "/opt/anaconda2/lib/python2.7/site-packages/ipykernel_launcher.py:33: MatplotlibDeprecationWarning: pyplot.hold is deprecated.\n",
      "    Future behavior will be consistent with the long-time default:\n",
      "    plot commands add elements without first clearing the\n",
      "    Axes and/or Figure.\n",
      "/opt/anaconda2/lib/python2.7/site-packages/matplotlib/__init__.py:910: MatplotlibDeprecationWarning: axes.hold is deprecated. Please remove it from your matplotlibrc and/or style files.\n",
      "  mplDeprecation)\n",
      "/opt/anaconda2/lib/python2.7/site-packages/matplotlib/rcsetup.py:156: MatplotlibDeprecationWarning: axes.hold is deprecated, will be removed in 3.0\n",
      "  mplDeprecation)\n",
      "/opt/anaconda2/lib/python2.7/site-packages/ipykernel_launcher.py:42: MatplotlibDeprecationWarning: pyplot.hold is deprecated.\n",
      "    Future behavior will be consistent with the long-time default:\n",
      "    plot commands add elements without first clearing the\n",
      "    Axes and/or Figure.\n"
     ]
    },
    {
     "name": "stdout",
     "output_type": "stream",
     "text": [
      "[1.0, 1.0, 1.0, 1.0, 1.0, 1.0]\n",
      "[0.8536144578313254, 0.8481927710843372, 0.85, 0.843975903614458, 0.844578313253012, 0.8656626506024097]\n"
     ]
    },
    {
     "data": {
      "image/png": "[encoded data removed]",
      "text/plain": [
       "<Figure size 432x288 with 1 Axes>"
      ]
     },
     "metadata": {
      "needs_background": "light"
     },
     "output_type": "display_data"
    }
   ],
   "source": [
    "# Based on the plot we select the top 10 features.\n",
    "\n",
    "selected_features = ['acc_phone_x_temp_mean_ws_60', 'acc_phone_z', 'gyr_phone_z_temp_mean_ws_60', \n",
    "                     'mag_phone_x_freq_0.9_Hz_ws_20', 'acc_phone_y_freq_0.2_Hz_ws_20', 'gyr_phone_x_freq_0.30000000000000004_Hz_ws_20', \n",
    "                     'gyr_phone_z_freq_0.9_Hz_ws_20', 'gyr_phone_y_freq_0.7000000000000001_Hz_ws_20',\n",
    "                     'gyr_phone_x_freq_0.6000000000000001_Hz_ws_20', 'acc_phone_z_freq_0.8_Hz_ws_20',\n",
    "                     ]\n",
    "# Let us first study the impact of regularization and model complexity: does regularization prevent overfitting?\n",
    "\n",
    "learner = ClassificationAlgorithms()\n",
    "eval = ClassificationEvaluation()\n",
    "\n",
    "reg_parameters = [0.0001, 0.001, 0.01, 0.1, 1, 10]\n",
    "performance_training = []\n",
    "performance_test = []\n",
    "\n",
    "# We repeat the experiment a number of times to get a bit more robust data as the initialization of the NN is random.\n",
    "\n",
    "repeats = 20\n",
    "\n",
    "for reg_param in reg_parameters:\n",
    "    performance_tr = 0\n",
    "    performance_te = 0\n",
    "    for i in range(0, repeats):\n",
    "        class_train_y, class_test_y, class_train_prob_y, class_test_prob_y = learner.feedforward_neural_network(train_X, train_y,\n",
    "                                                                                                            test_X, hidden_layer_sizes=(250, ), alpha=reg_param, max_iter=500,\n",
    "                                                                                                            gridsearch=False)\n",
    "        performance_tr += eval.accuracy(train_y, class_train_y)\n",
    "        performance_te += eval.accuracy(test_y, class_test_y)\n",
    "    performance_training.append(performance_tr/repeats)\n",
    "    performance_test.append(performance_te/repeats)\n",
    "\n",
    "plot.hold(True)\n",
    "plot.semilogx(reg_parameters, performance_training, 'r-')\n",
    "plot.semilogx(reg_parameters, performance_test, 'b:')\n",
    "print performance_training\n",
    "print performance_test\n",
    "plot.xlabel('regularization parameter value')\n",
    "plot.ylabel('accuracy')\n",
    "plot.ylim([0.75, 1.01])\n",
    "plot.legend(['training', 'test'], loc=4)\n",
    "plot.hold(False)\n",
    "\n",
    "plot.show()"
   ]
  },
  {
   "cell_type": "code",
   "execution_count": 10,
   "metadata": {},
   "outputs": [
    {
     "name": "stderr",
     "output_type": "stream",
     "text": [
      "/opt/anaconda2/lib/python2.7/site-packages/ipykernel_launcher.py:13: MatplotlibDeprecationWarning: pyplot.hold is deprecated.\n",
      "    Future behavior will be consistent with the long-time default:\n",
      "    plot commands add elements without first clearing the\n",
      "    Axes and/or Figure.\n",
      "  del sys.path[0]\n",
      "/opt/anaconda2/lib/python2.7/site-packages/ipykernel_launcher.py:19: MatplotlibDeprecationWarning: pyplot.hold is deprecated.\n",
      "    Future behavior will be consistent with the long-time default:\n",
      "    plot commands add elements without first clearing the\n",
      "    Axes and/or Figure.\n"
     ]
    },
    {
     "data": {
      "image/png": "[encoded data removed]",
      "text/plain": [
       "<Figure size 432x288 with 1 Axes>"
      ]
     },
     "metadata": {
      "needs_background": "light"
     },
     "output_type": "display_data"
    }
   ],
   "source": [
    "# Second, let us consider the influence of certain parameter settings (very related to the regulariztion) and study the impact on performance.\n",
    "\n",
    "leaf_settings = [1,2,5,10]\n",
    "performance_training = []\n",
    "performance_test = []\n",
    "\n",
    "for no_points_leaf in leaf_settings:\n",
    "    class_train_y, class_test_y, class_train_prob_y, class_test_prob_y = learner.decision_tree(train_X[selected_features], train_y, test_X[selected_features], min_samples_leaf=no_points_leaf,\n",
    "                                                                                               gridsearch=False, print_model_details=False)\n",
    "    performance_training.append(eval.accuracy(train_y, class_train_y))\n",
    "    performance_test.append(eval.accuracy(test_y, class_test_y))\n",
    "\n",
    "plot.hold(True)\n",
    "plot.plot(leaf_settings, performance_training, 'r-')\n",
    "plot.plot(leaf_settings, performance_test, 'b:')\n",
    "plot.xlabel('minimum number of points per leaf')\n",
    "plot.ylabel('accuracy')\n",
    "plot.legend(['training', 'test'], loc=1)\n",
    "plot.hold(False)\n",
    "\n",
    "plot.show()\n",
    "\n"
   ]
  },
  {
   "cell_type": "code",
   "execution_count": 14,
   "metadata": {},
   "outputs": [],
   "source": [
    "from util.VisualizeDataset import VisualizeDataset\n",
    "from Chapter7.PrepareDatasetForLearning import PrepareDatasetForLearning\n",
    "from Chapter7.LearningAlgorithms import ClassificationAlgorithms\n",
    "from Chapter7.LearningAlgorithms import RegressionAlgorithms\n",
    "from Chapter7.Evaluation import ClassificationEvaluation\n",
    "from Chapter7.Evaluation import RegressionEvaluation\n",
    "from Chapter7.FeatureSelection import FeatureSelectionClassification\n",
    "from Chapter7.FeatureSelection import FeatureSelectionRegression\n",
    "import copy\n",
    "import pandas as pd\n",
    "from util import util\n",
    "import matplotlib.pyplot as plot\n",
    "import numpy as np\n",
    "from sklearn.model_selection import train_test_split\n",
    "import os\n",
    "export_tree_path = './CoursePythonCode/intermediate_datafiles/'"
   ]
  },
  {
   "cell_type": "code",
   "execution_count": 15,
   "metadata": {},
   "outputs": [
    {
     "name": "stdout",
     "output_type": "stream",
     "text": [
      "initial set  &  0.9833 \\emph{( 0.9649 - 1.0018 )}  &  0.8892 \\emph{( 0.8202 - 0.9581 )}  &  0.9833 \\emph{( 0.9649 - 1.0018 )}  &  0.8988 \\emph{( 0.8326 - 0.9650 )}  &  0.9062 \\emph{( 0.8642 - 0.9483 )}  &  0.7711 \\emph{( 0.6789 - 0.8633 )}  &  1.0000 \\emph{( 1.0000 - 1.0000 )}  &  0.6265 \\emph{( 0.5203 - 0.7327 )}  &  0.9740 \\emph{( 0.9510 - 0.9969 )}  &  0.8554 \\emph{( 0.7782 - 0.9326 )}  &  0.8750 \\emph{( 0.8273 - 0.9227 )}  &  0.8795 \\emph{( 0.8081 - 0.9510 )} \\\\\\hline\n",
      "Chapter 3  &  0.9802 \\emph{( 0.9601 - 1.0003 )}  &  0.8892 \\emph{( 0.8202 - 0.9581 )}  &  0.9760 \\emph{( 0.9540 - 0.9981 )}  &  0.9108 \\emph{( 0.8483 - 0.9734 )}  &  0.9271 \\emph{( 0.8896 - 0.9646 )}  &  0.8072 \\emph{( 0.7206 - 0.8938 )}  &  1.0000 \\emph{( 1.0000 - 1.0000 )}  &  0.6265 \\emph{( 0.5203 - 0.7327 )}  &  0.9740 \\emph{( 0.9510 - 0.9969 )}  &  0.8072 \\emph{( 0.7206 - 0.8938 )}  &  0.8750 \\emph{( 0.8273 - 0.9227 )}  &  0.8916 \\emph{( 0.8233 - 0.9598 )} \\\\\\hline\n",
      "Chapter 4  &  0.9969 \\emph{( 0.9888 - 1.0049 )}  &  0.8410 \\emph{( 0.7607 - 0.9212 )}  &  1.0000 \\emph{( 1.0000 - 1.0000 )}  &  0.9518 \\emph{( 0.9048 - 0.9988 )}  &  1.0000 \\emph{( 1.0000 - 1.0000 )}  &  0.8675 \\emph{( 0.7930 - 0.9419 )}  &  1.0000 \\emph{( 1.0000 - 1.0000 )}  &  0.9036 \\emph{( 0.8388 - 0.9684 )}  &  0.9896 \\emph{( 0.9749 - 1.0042 )}  &  0.8916 \\emph{( 0.8233 - 0.9598 )}  &  0.9792 \\emph{( 0.9586 - 0.9998 )}  &  0.8675 \\emph{( 0.7930 - 0.9419 )} \\\\\\hline\n",
      "Chapter 5  &  0.9958 \\emph{( 0.9865 - 1.0051 )}  &  0.8410 \\emph{( 0.7607 - 0.9212 )}  &  1.0000 \\emph{( 1.0000 - 1.0000 )}  &  0.9373 \\emph{( 0.8842 - 0.9905 )}  &  1.0000 \\emph{( 1.0000 - 1.0000 )}  &  0.8675 \\emph{( 0.7930 - 0.9419 )}  &  1.0000 \\emph{( 1.0000 - 1.0000 )}  &  0.9036 \\emph{( 0.8388 - 0.9684 )}  &  0.9896 \\emph{( 0.9749 - 1.0042 )}  &  0.9036 \\emph{( 0.8388 - 0.9684 )}  &  0.9792 \\emph{( 0.9586 - 0.9998 )}  &  0.8554 \\emph{( 0.7782 - 0.9326 )} \\\\\\hline\n",
      "Selected features  &  0.9010 \\emph{( 0.8579 - 0.9441 )}  &  0.7181 \\emph{( 0.6193 - 0.8168 )}  &  0.9938 \\emph{( 0.9824 - 1.0051 )}  &  0.8000 \\emph{( 0.7122 - 0.8878 )}  &  0.7969 \\emph{( 0.7388 - 0.8549 )}  &  0.6867 \\emph{( 0.5849 - 0.7886 )}  &  1.0000 \\emph{( 1.0000 - 1.0000 )}  &  0.7349 \\emph{( 0.6380 - 0.8318 )}  &  1.0000 \\emph{( 1.0000 - 1.0000 )}  &  0.7590 \\emph{( 0.6652 - 0.8529 )}  &  0.8646 \\emph{( 0.8152 - 0.9140 )}  &  0.7590 \\emph{( 0.6652 - 0.8529 )} \\\\\\hline\n"
     ]
    },
    {
     "data": {
      "image/png": "[encoded data removed]",
      "text/plain": [
       "<Figure size 432x288 with 1 Axes>"
      ]
     },
     "metadata": {
      "needs_background": "light"
     },
     "output_type": "display_data"
    },
    {
     "name": "stdout",
     "output_type": "stream",
     "text": [
      "{'criterion': 'entropy', 'min_samples_leaf': 2}\n",
      "Feature importance decision tree:\n",
      "acc_phone_z  &  0.4146095719711412\n",
      "acc_phone_x_temp_mean_ws_60  &  0.3383443595635872\n",
      "gyr_phone_z_temp_mean_ws_60  &  0.1252357793970616\n",
      "mag_phone_x_freq_0.9_Hz_ws_20  &  0.09753533813053127\n",
      "gyr_phone_x_freq_0.30000000000000004_Hz_ws_20  &  0.024274950937678754\n",
      "acc_phone_y_freq_0.2_Hz_ws_20  &  0.0\n",
      "gyr_phone_z_freq_0.9_Hz_ws_20  &  0.0\n",
      "gyr_phone_y_freq_0.7000000000000001_Hz_ws_20  &  0.0\n",
      "gyr_phone_x_freq_0.6000000000000001_Hz_ws_20  &  0.0\n",
      "acc_phone_z_freq_0.8_Hz_ws_20  &  0.0\n",
      "{'n_estimators': 50, 'criterion': 'gini', 'min_samples_leaf': 2}\n",
      "Feature importance random forest:\n",
      "gyr_phone_z_temp_mean_ws_60  &  0.23925922451597814\n",
      "acc_phone_z  &  0.23757198134703558\n",
      "acc_phone_x_temp_mean_ws_60  &  0.22660564415789936\n",
      "acc_phone_z_freq_0.8_Hz_ws_20  &  0.07629948527448974\n",
      "mag_phone_x_freq_0.9_Hz_ws_20  &  0.054640009467184655\n",
      "gyr_phone_z_freq_0.9_Hz_ws_20  &  0.04737379008222977\n",
      "acc_phone_y_freq_0.2_Hz_ws_20  &  0.04067784795703482\n",
      "gyr_phone_x_freq_0.30000000000000004_Hz_ws_20  &  0.03004783838858885\n",
      "gyr_phone_y_freq_0.7000000000000001_Hz_ws_20  &  0.028130290098123026\n",
      "gyr_phone_x_freq_0.6000000000000001_Hz_ws_20  &  0.019393888711436064\n"
     ]
    },
    {
     "data": {
      "image/png": "[encoded data removed]",
      "text/plain": [
       "<Figure size 432x288 with 2 Axes>"
      ]
     },
     "metadata": {
      "needs_background": "light"
     },
     "output_type": "display_data"
    }
   ],
   "source": [
    "\n",
    "# So yes, it is important :) Therefore we perform grid searches over the most important parameters, and do so by means\n",
    "# of cross validation upon the training set.\n",
    "\n",
    "\n",
    "possible_feature_sets = [basic_features, features_after_chapter_3, features_after_chapter_4, features_after_chapter_5, selected_features]\n",
    "feature_names = ['initial set', 'Chapter 3', 'Chapter 4', 'Chapter 5', 'Selected features']\n",
    "repeats = 5\n",
    "\n",
    "scores_over_all_algs = []\n",
    "\n",
    "for i in range(0, len(possible_feature_sets)):\n",
    "    selected_train_X = train_X[possible_feature_sets[i]]\n",
    "    selected_test_X = test_X[possible_feature_sets[i]]\n",
    "\n",
    "    # First we run our non deterministic classifiers a number of times to average their score.\n",
    "\n",
    "    performance_tr_nn = 0\n",
    "    performance_tr_rf = 0\n",
    "    performance_tr_svm = 0\n",
    "    performance_te_nn = 0\n",
    "    performance_te_rf = 0\n",
    "    performance_te_svm = 0\n",
    "\n",
    "    for repeat in range(0, repeats):\n",
    "        class_train_y, class_test_y, class_train_prob_y, class_test_prob_y = learner.feedforward_neural_network(selected_train_X, train_y, selected_test_X, gridsearch=True)\n",
    "        performance_tr_nn += eval.accuracy(train_y, class_train_y)\n",
    "        performance_te_nn += eval.accuracy(test_y, class_test_y)\n",
    "\n",
    "        class_train_y, class_test_y, class_train_prob_y, class_test_prob_y = learner.random_forest(selected_train_X, train_y, selected_test_X, gridsearch=True)\n",
    "        performance_tr_rf += eval.accuracy(train_y, class_train_y)\n",
    "        performance_te_rf += eval.accuracy(test_y, class_test_y)\n",
    "\n",
    "        class_train_y, class_test_y, class_train_prob_y, class_test_prob_y = learner.support_vector_machine_with_kernel(selected_train_X, train_y, selected_test_X, gridsearch=True)\n",
    "        performance_tr_svm += eval.accuracy(train_y, class_train_y)\n",
    "        performance_te_svm += eval.accuracy(test_y, class_test_y)\n",
    "\n",
    "\n",
    "    overall_performance_tr_nn = performance_tr_nn/repeats\n",
    "    overall_performance_te_nn = performance_te_nn/repeats\n",
    "    overall_performance_tr_rf = performance_tr_rf/repeats\n",
    "    overall_performance_te_rf = performance_te_rf/repeats\n",
    "    overall_performance_tr_svm = performance_tr_svm/repeats\n",
    "    overall_performance_te_svm = performance_te_svm/repeats\n",
    "\n",
    "    # And we run our deterministic classifiers:\n",
    "\n",
    "\n",
    "    class_train_y, class_test_y, class_train_prob_y, class_test_prob_y = learner.k_nearest_neighbor(selected_train_X, train_y, selected_test_X, gridsearch=True)\n",
    "    performance_tr_knn = eval.accuracy(train_y, class_train_y)\n",
    "    performance_te_knn = eval.accuracy(test_y, class_test_y)\n",
    "\n",
    "    class_train_y, class_test_y, class_train_prob_y, class_test_prob_y = learner.decision_tree(selected_train_X, train_y, selected_test_X, gridsearch=True)\n",
    "    performance_tr_dt = eval.accuracy(train_y, class_train_y)\n",
    "    performance_te_dt = eval.accuracy(test_y, class_test_y)\n",
    "\n",
    "    class_train_y, class_test_y, class_train_prob_y, class_test_prob_y = learner.naive_bayes(selected_train_X, train_y, selected_test_X)\n",
    "    performance_tr_nb = eval.accuracy(train_y, class_train_y)\n",
    "    performance_te_nb = eval.accuracy(test_y, class_test_y)\n",
    "\n",
    "    scores_with_sd = util.print_table_row_performances(feature_names[i], len(selected_train_X.index), len(selected_test_X.index), [\n",
    "                                                                                                (overall_performance_tr_nn, overall_performance_te_nn),\n",
    "                                                                                                (overall_performance_tr_rf, overall_performance_te_rf),\n",
    "                                                                                                (overall_performance_tr_svm, overall_performance_te_svm),\n",
    "                                                                                                (performance_tr_knn, performance_te_knn),\n",
    "                                                                                                (performance_tr_dt, performance_te_dt),\n",
    "                                                                                                (performance_tr_nb, performance_te_nb)])\n",
    "    scores_over_all_algs.append(scores_with_sd)\n",
    "\n",
    "DataViz.plot_performances_classification(['NN', 'RF', 'SVM', 'KNN', 'DT', 'NB'], feature_names, scores_over_all_algs)\n",
    "\n",
    "# And we study two promising ones in more detail. First let us consider the decision tree which works best with the selected\n",
    "# features.\n",
    "#\n",
    "class_train_y, class_test_y, class_train_prob_y, class_test_prob_y = learner.decision_tree(train_X[selected_features], train_y, test_X[selected_features],\n",
    "                                                                                           gridsearch=True,\n",
    "                                                                                           print_model_details=True, export_tree_path=export_tree_path)\n",
    "\n",
    "class_train_y, class_test_y, class_train_prob_y, class_test_prob_y = learner.random_forest(train_X[selected_features], train_y, test_X[selected_features],\n",
    "                                                                                           gridsearch=True, print_model_details=True)\n",
    "\n",
    "test_cm = eval.confusion_matrix(test_y, class_test_y, class_train_prob_y.columns)\n",
    "\n",
    "DataViz.plot_confusion_matrix(test_cm, class_train_prob_y.columns, normalize=False)"
   ]
  },
  {
   "cell_type": "code",
   "execution_count": null,
   "metadata": {},
   "outputs": [],
   "source": []
  },
  {
   "cell_type": "markdown",
   "metadata": {},
   "source": [
    "# Chapter 8 Question 2"
   ]
  }
 ],
 "metadata": {
  "kernelspec": {
   "display_name": "Python 2",
   "language": "python",
   "name": "python2"
  },
  "language_info": {
   "codemirror_mode": {
    "name": "ipython",
    "version": 2
   },
   "file_extension": ".py",
   "mimetype": "text/x-python",
   "name": "python",
   "nbconvert_exporter": "python",
   "pygments_lexer": "ipython2",
   "version": "2.7.15"
  }
 },
 "nbformat": 4,
 "nbformat_minor": 2
}
