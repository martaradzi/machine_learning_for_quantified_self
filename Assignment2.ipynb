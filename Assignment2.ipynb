{
 "cells": [
  {
   "cell_type": "code",
   "execution_count": 1,
   "metadata": {},
   "outputs": [],
   "source": [
    "import sys\n",
    "sys.path.append('./CoursePythonCode')\n",
    "%matplotlib inline\n",
    "\n",
    "import copy\n",
    "import pandas as pd\n",
    "import matplotlib\n",
    "import matplotlib.pyplot as plt\n",
    "import matplotlib.dates as md\n",
    "\n",
    "# Settings for matplotlib to ensure readable plots\n",
    "plt.rcParams[\"figure.figsize\"] = [20,15]\n",
    "matplotlib.rc('font', **{'family' : 'normal', 'size'   : 22})\n",
    "matplotlib.rc('xtick',labelsize=22)\n",
    "matplotlib.rc('ytick',labelsize=22)\n",
    "\n",
    "from util import util\n",
    "from util.VisualizeDataset import VisualizeDataset\n",
    "from Chapter5.Clustering import NonHierarchicalClustering\n",
    "from Chapter5.Clustering import HierarchicalClustering\n",
    "\n",
    "# initialize relevant class instances\n",
    "DataViz = VisualizeDataset()\n",
    "clusteringNH = NonHierarchicalClustering()\n",
    "clusteringH = HierarchicalClustering()"
   ]
  },
  {
   "cell_type": "code",
   "execution_count": 4,
   "metadata": {},
   "outputs": [],
   "source": [
    "data = pd.read_csv('./CoursePythonCode/intermediate_datafiles/chapter4_result.csv', index_col=0)\n",
    "data.index = pd.to_datetime(data.index)"
   ]
  },
  {
   "cell_type": "code",
   "execution_count": null,
   "metadata": {},
   "outputs": [],
   "source": []
  }
 ],
 "metadata": {
  "kernelspec": {
   "display_name": "Python 2",
   "language": "python",
   "name": "python2"
  },
  "language_info": {
   "codemirror_mode": {
    "name": "ipython",
    "version": 2
   },
   "file_extension": ".py",
   "mimetype": "text/x-python",
   "name": "python",
   "nbconvert_exporter": "python",
   "pygments_lexer": "ipython2",
   "version": "2.7.15"
  }
 },
 "nbformat": 4,
 "nbformat_minor": 2
}
